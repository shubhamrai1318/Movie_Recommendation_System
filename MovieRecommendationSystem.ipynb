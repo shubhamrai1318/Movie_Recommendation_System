{
  "nbformat": 4,
  "nbformat_minor": 0,
  "metadata": {
    "colab": {
      "provenance": [],
      "authorship_tag": "ABX9TyPaRK2zqC8LwqU2KJTf+KNw",
      "include_colab_link": true
    },
    "kernelspec": {
      "name": "python3",
      "display_name": "Python 3"
    },
    "language_info": {
      "name": "python"
    }
  },
  "cells": [
    {
      "cell_type": "markdown",
      "metadata": {
        "id": "view-in-github",
        "colab_type": "text"
      },
      "source": [
        "<a href=\"https://colab.research.google.com/github/shubhamrai1318/Movie_Recommendation_System/blob/main/MovieRecommendationSystem.ipynb\" target=\"_parent\"><img src=\"https://colab.research.google.com/assets/colab-badge.svg\" alt=\"Open In Colab\"/></a>"
      ]
    },
    {
      "cell_type": "markdown",
      "source": [
        "# **Movie Recommendation System Using SVD**"
      ],
      "metadata": {
        "id": "563l_T9vRLbS"
      }
    },
    {
      "cell_type": "markdown",
      "source": [
        "### **Importing the basic libraries**\n"
      ],
      "metadata": {
        "id": "XTIZ-3HuRP6k"
      }
    },
    {
      "cell_type": "code",
      "source": [
        "import numpy as np\n",
        "import pandas as pd"
      ],
      "metadata": {
        "id": "cOdZpcGoRbjE"
      },
      "execution_count": 1,
      "outputs": []
    }
  ]
}